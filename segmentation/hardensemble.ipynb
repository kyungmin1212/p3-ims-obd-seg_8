{
 "cells": [
  {
   "cell_type": "code",
   "execution_count": 1,
   "id": "08e32952-69bc-48ed-a1c2-0d3761d86500",
   "metadata": {},
   "outputs": [],
   "source": [
    "import argparse\n",
    "import os\n",
    "\n",
    "import numpy as np\n",
    "import pandas as pd\n",
    "import torch\n",
    "from torch.utils.data import DataLoader\n",
    "import segmentation_models_pytorch as smp\n",
    "from importlib import import_module\n",
    "import albumentations as A\n",
    "from albumentations.pytorch import ToTensorV2"
   ]
  },
  {
   "cell_type": "code",
   "execution_count": 49,
   "id": "e9c6edc8-3b04-4949-96d3-171311dadf22",
   "metadata": {},
   "outputs": [],
   "source": [
    "data0=pd.read_csv('/opt/ml/realcode/output/DeepLabV3Plus_ResNet152_Adamp_0.0001_marginx_plus_plus_notb_pseudo_cos_kfold0.csv')\n",
    "data1=pd.read_csv('/opt/ml/realcode/output/DeepLabV3Plus_ResNet152_Adamp_0.0001_marginx_plus_plus_notb_pseudo_cos_kfold1.csv')\n",
    "data2=pd.read_csv('/opt/ml/realcode/output/DeepLabV3Plus_ResNet152_Adamp_0.0001_marginx_plus_plus_notb_pseudo_cos_kfold2.csv')\n",
    "data3=pd.read_csv('/opt/ml/realcode/output/DeepLabV3Plus_ResNet152_Adamp_0.0001_marginx_plus_plus_notb_pseudo_cos_kfold3.csv')\n",
    "data4=pd.read_csv('/opt/ml/realcode/output/DeepLabV3Plus_ResNet152_Adamp_0.0001_marginx_plus_plus_notb_pseudo_cos_kfold4.csv')"
   ]
  },
  {
   "cell_type": "code",
   "execution_count": 68,
   "id": "e250c208-a311-44b3-86db-5dec67d98fc9",
   "metadata": {
    "collapsed": true,
    "jupyter": {
     "outputs_hidden": true
    },
    "tags": []
   },
   "outputs": [
    {
     "name": "stderr",
     "output_type": "stream",
     "text": [
      "/opt/conda/lib/python3.7/site-packages/ipykernel_launcher.py:9: VisibleDeprecationWarning: Creating an ndarray from ragged nested sequences (which is a list-or-tuple of lists-or-tuples-or ndarrays with different lengths or shapes) is deprecated. If you meant to do this, you must specify 'dtype=object' when creating the ndarray\n",
      "  if __name__ == '__main__':\n",
      "/opt/conda/lib/python3.7/site-packages/ipykernel_launcher.py:18: VisibleDeprecationWarning: Creating an ndarray from ragged nested sequences (which is a list-or-tuple of lists-or-tuples-or ndarrays with different lengths or shapes) is deprecated. If you meant to do this, you must specify 'dtype=object' when creating the ndarray\n",
      "/opt/conda/lib/python3.7/site-packages/ipykernel_launcher.py:27: VisibleDeprecationWarning: Creating an ndarray from ragged nested sequences (which is a list-or-tuple of lists-or-tuples-or ndarrays with different lengths or shapes) is deprecated. If you meant to do this, you must specify 'dtype=object' when creating the ndarray\n",
      "/opt/conda/lib/python3.7/site-packages/ipykernel_launcher.py:36: VisibleDeprecationWarning: Creating an ndarray from ragged nested sequences (which is a list-or-tuple of lists-or-tuples-or ndarrays with different lengths or shapes) is deprecated. If you meant to do this, you must specify 'dtype=object' when creating the ndarray\n",
      "/opt/conda/lib/python3.7/site-packages/ipykernel_launcher.py:45: VisibleDeprecationWarning: Creating an ndarray from ragged nested sequences (which is a list-or-tuple of lists-or-tuples-or ndarrays with different lengths or shapes) is deprecated. If you meant to do this, you must specify 'dtype=object' when creating the ndarray\n"
     ]
    }
   ],
   "source": [
    "file_name=data0['image_id']\n",
    "data=data0['PredictionString']\n",
    "new_data=[]\n",
    "for i in range(len(file_name)):\n",
    "    check_data=' '.join(data[i]).split()\n",
    "    check_data=np.array(check_data).astype(np.float32)\n",
    "\n",
    "    new_data.append(check_data)\n",
    "new_data0=np.array(new_data)\n",
    "\n",
    "data=data1['PredictionString']\n",
    "new_data=[]\n",
    "for i in range(len(file_name)):\n",
    "    check_data=' '.join(data[i]).split()\n",
    "    check_data=np.array(check_data).astype(np.float32)\n",
    "\n",
    "    new_data.append(check_data)\n",
    "new_data1=np.array(new_data)\n",
    "\n",
    "data=data2['PredictionString']\n",
    "new_data=[]\n",
    "for i in range(len(file_name)):\n",
    "    check_data=' '.join(data[i]).split()\n",
    "    check_data=np.array(check_data).astype(np.float32)\n",
    "\n",
    "    new_data.append(check_data)\n",
    "new_data2=np.array(new_data)\n",
    "\n",
    "data=data3['PredictionString']\n",
    "new_data=[]\n",
    "for i in range(len(file_name)):\n",
    "    check_data=' '.join(data[i]).split()\n",
    "    check_data=np.array(check_data).astype(np.float32)\n",
    "\n",
    "    new_data.append(check_data)\n",
    "new_data3=np.array(new_data)\n",
    "\n",
    "data=data4['PredictionString']\n",
    "new_data=[]\n",
    "for i in range(len(file_name)):\n",
    "    check_data=' '.join(data[i]).split()\n",
    "    check_data=np.array(check_data).astype(np.float32)\n",
    "\n",
    "    new_data.append(check_data)\n",
    "new_data4=np.array(new_data)\n"
   ]
  },
  {
   "cell_type": "code",
   "execution_count": 102,
   "id": "3394f6e4-f0da-45a2-b569-d90087a8de8b",
   "metadata": {},
   "outputs": [
    {
     "name": "stdout",
     "output_type": "stream",
     "text": [
      "(65536,)\n",
      "(65536,)\n",
      "(65536,)\n",
      "(65536,)\n",
      "0.0\n",
      "(837,)\n"
     ]
    }
   ],
   "source": [
    "print(new_data0[0].shape)\n",
    "print(new_data1[0].shape)\n",
    "print(new_data2[0].shape)\n",
    "print(new_data3[0].shape)\n",
    "print(new_data0[0][12203])\n",
    "print(new_data0.shape)"
   ]
  },
  {
   "cell_type": "code",
   "execution_count": 89,
   "id": "90d5329b-bdfc-4318-b7c7-a4e003045916",
   "metadata": {},
   "outputs": [
    {
     "name": "stdout",
     "output_type": "stream",
     "text": [
      "1\n"
     ]
    }
   ],
   "source": [
    "from collections import Counter\n",
    "d=[1,1,3,3,4]\n",
    "counter=Counter(d)\n",
    "print(counter.most_common()[0][0])"
   ]
  },
  {
   "cell_type": "code",
   "execution_count": 113,
   "id": "cab45723-1c73-4425-af58-2c63f01eef22",
   "metadata": {},
   "outputs": [],
   "source": [
    "from collections import Counter\n",
    "save_data=[]\n",
    "for i in range(837): # 837장 i 는 0부터 836까지\n",
    "    plus_data=[]\n",
    "    for j in range(65536): # 256*256 중 j 는 0부터 256*256-1까지\n",
    "        checklist=[new_data0[i][j],new_data1[i][j],new_data2[i][j],new_data3[i][j],new_data4[i][j]]\n",
    "        counter=Counter(checklist)\n",
    "        many=counter.most_common()[0][0]\n",
    "        plus_data.append(int(many))\n",
    "    save_data.append(plus_data)"
   ]
  },
  {
   "cell_type": "code",
   "execution_count": 114,
   "id": "130155a3-8ccb-4b1f-bb7b-1da5cf5b17df",
   "metadata": {},
   "outputs": [
    {
     "name": "stdout",
     "output_type": "stream",
     "text": [
      "0\n"
     ]
    }
   ],
   "source": [
    "print(save_data[0][0])"
   ]
  },
  {
   "cell_type": "code",
   "execution_count": 115,
   "id": "2d71d24e-e32a-47af-801c-09acf31daa54",
   "metadata": {},
   "outputs": [],
   "source": [
    "submission = pd.read_csv('./submission/sample_submission.csv', index_col=None)"
   ]
  },
  {
   "cell_type": "code",
   "execution_count": 116,
   "id": "6e0d99fa-b2b4-4e6d-abb0-a51e9d88c105",
   "metadata": {},
   "outputs": [],
   "source": [
    "save_data=np.array(save_data)"
   ]
  },
  {
   "cell_type": "code",
   "execution_count": 117,
   "id": "a989431f-6a2e-4067-971d-fbbbf19f4892",
   "metadata": {},
   "outputs": [
    {
     "name": "stdout",
     "output_type": "stream",
     "text": [
      "(837, 65536)\n"
     ]
    }
   ],
   "source": [
    "print(save_data.shape)"
   ]
  },
  {
   "cell_type": "code",
   "execution_count": 118,
   "id": "3c0c8e57-7135-4da2-bf34-e49586385cbb",
   "metadata": {},
   "outputs": [
    {
     "name": "stdout",
     "output_type": "stream",
     "text": [
      "0\n"
     ]
    }
   ],
   "source": [
    "print(save_data[0][0])"
   ]
  },
  {
   "cell_type": "code",
   "execution_count": 119,
   "id": "dabdc931-0916-4fc6-910f-f2f8a5a8b8e0",
   "metadata": {},
   "outputs": [],
   "source": [
    "file_names=data0['image_id']\n",
    "for file_name, string in zip(file_names, save_data):\n",
    "    submission = submission.append({\"image_id\" : file_name, \"PredictionString\" : ' '.join(str(e) for e in string.tolist())}, \n",
    "                                ignore_index=True)\n",
    "submission.to_csv(os.path.join('./output','hardensemble.csv'), index=False)"
   ]
  },
  {
   "cell_type": "code",
   "execution_count": 6,
   "id": "515681f9-c46b-47dd-bab2-447121df2632",
   "metadata": {},
   "outputs": [
    {
     "name": "stdout",
     "output_type": "stream",
     "text": [
      "[1 2 3]\n"
     ]
    }
   ],
   "source": [
    "print(a.detach().numpy())"
   ]
  },
  {
   "cell_type": "code",
   "execution_count": 7,
   "id": "56dd495a-a220-4316-8ae5-88c0856cad5e",
   "metadata": {},
   "outputs": [
    {
     "name": "stdout",
     "output_type": "stream",
     "text": [
      "2\n"
     ]
    }
   ],
   "source": [
    "print(np.argmax(a.detach().numpy(),0))"
   ]
  },
  {
   "cell_type": "code",
   "execution_count": 18,
   "id": "8fa0fbcd-887b-4272-819f-ba4937a03f49",
   "metadata": {
    "collapsed": true,
    "jupyter": {
     "outputs_hidden": true
    },
    "tags": []
   },
   "outputs": [
    {
     "name": "stdout",
     "output_type": "stream",
     "text": [
      "{'image': array([[[ 0.65273194, -0.86181629, -0.52151392, ...,  0.5746668 ,\n",
      "          0.39414191, -0.62639614],\n",
      "        [ 0.88726898, -0.76798148, -1.39484867, ..., -1.26766139,\n",
      "          0.3781172 ,  0.50026538],\n",
      "        [-1.28566985, -0.32766578, -0.17277764, ..., -0.50599227,\n",
      "          0.81501989,  1.28533245],\n",
      "        ...,\n",
      "        [ 0.7258251 , -0.43459124, -0.54813023, ...,  0.72891582,\n",
      "          0.1959562 ,  0.29093036],\n",
      "        [-1.28400111,  0.42425924, -0.66738738, ..., -0.86831866,\n",
      "          0.8278391 ,  0.53248992],\n",
      "        [ 0.19676886,  0.46489755, -0.56624673, ...,  0.43114813,\n",
      "          0.47980345, -0.28459842]],\n",
      "\n",
      "       [[ 0.65273194, -0.86181629, -0.52151392, ...,  0.5746668 ,\n",
      "          0.39414191, -0.62639614],\n",
      "        [ 0.88726898, -0.76798148, -1.39484867, ..., -1.26766139,\n",
      "          0.3781172 ,  0.50026538],\n",
      "        [-1.28566985, -0.32766578, -0.17277764, ..., -0.50599227,\n",
      "          0.81501989,  1.28533245],\n",
      "        ...,\n",
      "        [ 0.7258251 , -0.43459124, -0.54813023, ...,  0.72891582,\n",
      "          0.1959562 ,  0.29093036],\n",
      "        [-1.28400111,  0.42425924, -0.66738738, ..., -0.86831866,\n",
      "          0.8278391 ,  0.53248992],\n",
      "        [ 0.19676886,  0.46489755, -0.56624673, ...,  0.43114813,\n",
      "          0.47980345, -0.28459842]],\n",
      "\n",
      "       [[ 0.65273194, -0.86181629, -0.52151392, ...,  0.5746668 ,\n",
      "          0.39414191, -0.62639614],\n",
      "        [ 0.88726898, -0.76798148, -1.39484867, ..., -1.26766139,\n",
      "          0.3781172 ,  0.50026538],\n",
      "        [-1.28566985, -0.32766578, -0.17277764, ..., -0.50599227,\n",
      "          0.81501989,  1.28533245],\n",
      "        ...,\n",
      "        [ 0.7258251 , -0.43459124, -0.54813023, ...,  0.72891582,\n",
      "          0.1959562 ,  0.29093036],\n",
      "        [-1.28400111,  0.42425924, -0.66738738, ..., -0.86831866,\n",
      "          0.8278391 ,  0.53248992],\n",
      "        [ 0.19676886,  0.46489755, -0.56624673, ...,  0.43114813,\n",
      "          0.47980345, -0.28459842]],\n",
      "\n",
      "       ...,\n",
      "\n",
      "       [[-0.55720623, -1.60800511, -0.13071193, ...,  0.60940546,\n",
      "         -0.09021148,  0.14019141],\n",
      "        [-0.19595363, -0.03939019, -0.34608768, ..., -0.09286923,\n",
      "         -0.6046668 ,  1.49693614],\n",
      "        [ 0.33004099,  0.01284474, -0.44589366, ..., -0.34444952,\n",
      "         -0.81604794, -0.92032442],\n",
      "        ...,\n",
      "        [-0.67667466, -0.46122017, -0.15002138, ..., -0.19268829,\n",
      "          0.51939901, -0.56862132],\n",
      "        [-0.33634722,  0.09326012,  0.32713803, ...,  0.46668866,\n",
      "          0.22852875,  0.75620767],\n",
      "        [ 0.40629493,  0.04721857, -1.03495247, ..., -1.89273246,\n",
      "          0.9659751 , -0.17276374]],\n",
      "\n",
      "       [[-0.55720623, -1.60800511, -0.13071193, ...,  0.60940546,\n",
      "         -0.09021148,  0.14019141],\n",
      "        [-0.19595363, -0.03939019, -0.34608768, ..., -0.09286923,\n",
      "         -0.6046668 ,  1.49693614],\n",
      "        [ 0.33004099,  0.01284474, -0.44589366, ..., -0.34444952,\n",
      "         -0.81604794, -0.92032442],\n",
      "        ...,\n",
      "        [-0.67667466, -0.46122017, -0.15002138, ..., -0.19268829,\n",
      "          0.51939901, -0.56862132],\n",
      "        [-0.33634722,  0.09326012,  0.32713803, ...,  0.46668866,\n",
      "          0.22852875,  0.75620767],\n",
      "        [ 0.40629493,  0.04721857, -1.03495247, ..., -1.89273246,\n",
      "          0.9659751 , -0.17276374]],\n",
      "\n",
      "       [[-0.55720623, -1.60800511, -0.13071193, ...,  0.60940546,\n",
      "         -0.09021148,  0.14019141],\n",
      "        [-0.19595363, -0.03939019, -0.34608768, ..., -0.09286923,\n",
      "         -0.6046668 ,  1.49693614],\n",
      "        [ 0.33004099,  0.01284474, -0.44589366, ..., -0.34444952,\n",
      "         -0.81604794, -0.92032442],\n",
      "        ...,\n",
      "        [-0.67667466, -0.46122017, -0.15002138, ..., -0.19268829,\n",
      "          0.51939901, -0.56862132],\n",
      "        [-0.33634722,  0.09326012,  0.32713803, ...,  0.46668866,\n",
      "          0.22852875,  0.75620767],\n",
      "        [ 0.40629493,  0.04721857, -1.03495247, ..., -1.89273246,\n",
      "          0.9659751 , -0.17276374]]])}\n"
     ]
    }
   ],
   "source": [
    "transform = A.Compose([A.Resize(256, 256)])\n",
    "a=np.random.randn(2,512,512)\n",
    "a=transform(image=a)\n",
    "print(a)"
   ]
  },
  {
   "cell_type": "code",
   "execution_count": 46,
   "id": "6dd2c50f-490a-483c-b89f-7348fe9eef3f",
   "metadata": {},
   "outputs": [
    {
     "name": "stdout",
     "output_type": "stream",
     "text": [
      "[]\n"
     ]
    }
   ],
   "source": [
    "preds_array = np.empty((0,12,512*512))\n",
    "print(preds_array)"
   ]
  },
  {
   "cell_type": "code",
   "execution_count": 48,
   "id": "3712990c-0a54-4c62-b973-d32488f4f86a",
   "metadata": {},
   "outputs": [
    {
     "name": "stdout",
     "output_type": "stream",
     "text": [
      "(12, 12, 262144)\n"
     ]
    }
   ],
   "source": [
    "oms=np.random.randn(6,12,512*512)\n",
    "preds_array = np.vstack((preds_array, oms))\n",
    "print(preds_array.shape)"
   ]
  },
  {
   "cell_type": "code",
   "execution_count": null,
   "id": "77669611-29df-4352-8c81-696ad353cc1f",
   "metadata": {},
   "outputs": [],
   "source": []
  }
 ],
 "metadata": {
  "kernelspec": {
   "display_name": "Python 3",
   "language": "python",
   "name": "python3"
  },
  "language_info": {
   "codemirror_mode": {
    "name": "ipython",
    "version": 3
   },
   "file_extension": ".py",
   "mimetype": "text/x-python",
   "name": "python",
   "nbconvert_exporter": "python",
   "pygments_lexer": "ipython3",
   "version": "3.7.7"
  }
 },
 "nbformat": 4,
 "nbformat_minor": 5
}
