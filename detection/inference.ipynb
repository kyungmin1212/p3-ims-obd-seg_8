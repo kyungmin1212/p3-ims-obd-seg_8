{
 "cells": [
  {
   "cell_type": "code",
   "execution_count": 1,
   "metadata": {
    "pycharm": {
     "name": "#%%\n"
    }
   },
   "outputs": [],
   "source": [
    "import mmcv\n",
    "from mmcv import Config\n",
    "from mmdet.datasets import (build_dataloader, build_dataset,\n",
    "                            replace_ImageToTensor)\n",
    "from mmdet.models import build_detector\n",
    "from mmdet.apis import single_gpu_test\n",
    "from mmcv.runner import load_checkpoint\n",
    "import os\n",
    "from mmcv.parallel import MMDataParallel\n",
    "import pandas as pd\n",
    "from pandas import DataFrame\n",
    "from pycocotools.coco import COCO\n",
    "import numpy as np"
   ]
  },
  {
   "cell_type": "code",
   "execution_count": 2,
   "metadata": {
    "pycharm": {
     "name": "#%%\n"
    }
   },
   "outputs": [],
   "source": [
    "classes = (\"UNKNOWN\", \"General trash\", \"Paper\", \"Paper pack\", \"Metal\", \"Glass\", \n",
    "           \"Plastic\", \"Styrofoam\", \"Plastic bag\", \"Battery\", \"Clothing\")\n",
    "# config file 들고오기\n",
    "cfg = Config.fromfile('/opt/ml/realcode/swinb/cascade_mask_rcnn_swin_base_patch4_window7_mstrain_480-800_giou_4conv1f_adamw_3x_coco.py')\n",
    "\n",
    "PREFIX = '/opt/ml/input/data/'\n",
    "\n",
    "\n",
    "epoch = 10\n",
    "\n",
    "# dataset 바꾸기\n",
    "cfg.data.train.classes = classes\n",
    "cfg.data.train.img_prefix = PREFIX\n",
    "cfg.data.train.ann_file = PREFIX + 'train.json'\n",
    "cfg.data.train.pipeline[2]['img_scale'] = (512, 512)\n",
    "\n",
    "cfg.data.val.classes = classes\n",
    "cfg.data.val.img_prefix = PREFIX\n",
    "cfg.data.val.ann_file = PREFIX + 'val.json'\n",
    "cfg.data.val.pipeline[1]['img_scale'] = (512, 512)\n",
    "\n",
    "cfg.data.test.classes = classes\n",
    "cfg.data.test.img_prefix = PREFIX\n",
    "cfg.data.test.ann_file = PREFIX + 'test.json'\n",
    "cfg.data.test.pipeline[1]['img_scale'] = (512, 512)\n",
    "\n",
    "cfg.data.samples_per_gpu = 4\n",
    "\n",
    "cfg.seed=2020\n",
    "cfg.gpu_ids = [0]\n",
    "cfg.work_dir = '/opt/ml/realcode/work_dirs/swinb_plus'\n",
    "\n",
    "# cfg.model.roi_head.bbox_head.num_classes = 11\n",
    "\n",
    "cfg.optimizer_config.grad_clip = dict(max_norm=35, norm_type=2)\n",
    "cfg.model.train_cfg = None\n",
    "\n",
    "# checkpoint path\n",
    "checkpoint_path = os.path.join(cfg.work_dir, f'epoch_{epoch}.pth')"
   ]
  },
  {
   "cell_type": "code",
   "execution_count": 3,
   "metadata": {
    "pycharm": {
     "name": "#%%\n"
    }
   },
   "outputs": [
    {
     "name": "stdout",
     "output_type": "stream",
     "text": [
      "loading annotations into memory...\n",
      "Done (t=0.01s)\n",
      "creating index...\n",
      "index created!\n"
     ]
    }
   ],
   "source": [
    "dataset = build_dataset(cfg.data.test)\n",
    "data_loader = build_dataloader(\n",
    "        dataset,\n",
    "        samples_per_gpu=1,\n",
    "        workers_per_gpu=cfg.data.workers_per_gpu,\n",
    "        dist=False,\n",
    "        shuffle=False)"
   ]
  },
  {
   "cell_type": "code",
   "execution_count": 4,
   "metadata": {},
   "outputs": [
    {
     "name": "stdout",
     "output_type": "stream",
     "text": [
      "Use load_from_local loader\n"
     ]
    }
   ],
   "source": [
    "model = build_detector(cfg.model, test_cfg=cfg.get('test_cfg'))\n",
    "checkpoint = load_checkpoint(model, checkpoint_path, map_location='cpu')\n",
    "\n",
    "model.CLASSES = dataset.CLASSES\n",
    "model = MMDataParallel(model.cuda(), device_ids=[0])"
   ]
  },
  {
   "cell_type": "code",
   "execution_count": 5,
   "metadata": {
    "pycharm": {
     "name": "#%%\n"
    }
   },
   "outputs": [
    {
     "name": "stdout",
     "output_type": "stream",
     "text": [
      "[>>>>>>>>>>>>>>>>>>>>>>>>>>>>>] 837/837, 5.2 task/s, elapsed: 162s, ETA:     0s"
     ]
    }
   ],
   "source": [
    "output = single_gpu_test(model, data_loader, show_score_thr=0.05)"
   ]
  },
  {
   "cell_type": "code",
   "execution_count": 13,
   "metadata": {
    "collapsed": true,
    "jupyter": {
     "outputs_hidden": true
    },
    "tags": []
   },
   "outputs": [
    {
     "name": "stdout",
     "output_type": "stream",
     "text": [
      "([array([], shape=(0, 5), dtype=float32), array([[164.97191  ,  75.90062  , 254.11137  , 166.203    ,   0.9444211]],\n",
      "      dtype=float32), array([], shape=(0, 5), dtype=float32), array([], shape=(0, 5), dtype=float32), array([], shape=(0, 5), dtype=float32), array([], shape=(0, 5), dtype=float32), array([], shape=(0, 5), dtype=float32), array([], shape=(0, 5), dtype=float32), array([[172.6695   , 233.61838  , 461.31226  , 473.19327  ,   0.9996213]],\n",
      "      dtype=float32), array([], shape=(0, 5), dtype=float32), array([], shape=(0, 5), dtype=float32)], [[], [{'size': [512, 512], 'counts': b'`bb25j?3N2M8I2M3N6J4L1O4L4L1O2N7I1O2N2N1O1O1O01O01O1O0010O000000000001O000000001O1O01O0000010O001O000001O010O010O01O0010O0100O01O0100O10O1O01O01000000O010O1000O101O1N102M7J3L5K>C7H6H[kP4'}], [], [], [], [], [], [], [{'size': [512, 512], 'counts': b'dif2l0Q?7K3N1N2N2O1N2N3L8Af0A6K4M1N2O1N2N2O1M4I7I7M2O2M1O2O1N2N2N2N2M2O2N2O0O2O1N101N2M3N2N1O2N101O0O2O0O2N3M2N1O2N2O0O101O001O1O1N3N1O1O001O0O100O2O0O2N1O2N1O2O1O001O001N101O0000001O001O001O1O2N1O1O001O00000000000000000000001O001O1O1O1O1O1O001O00000000001O00000000001O001O001O1O1O001O001O01O001O00010O1O001O001O001O0000001O000000000001O0000000000000000001O000000001O0000001O00001O00001O000000001O000000000010O0000001O00001O00001O1O0010O01O00001O0000000000001O0000000000001O001O2N1O1O1O1O001O001O1O1O1O2N001O1O001O010O1O2N1O10O01O010O00100O2O0O100O1O1O001O1N2N5J8POeEjKc:l3n0L3M4M2N2N3nMiC5[<_OSD:R>FXTi0'}], [], []])\n"
     ]
    }
   ],
   "source": [
    "print(output[0])"
   ]
  },
  {
   "cell_type": "code",
   "execution_count": 14,
   "metadata": {},
   "outputs": [
    {
     "ename": "NameError",
     "evalue": "name 'array' is not defined",
     "output_type": "error",
     "traceback": [
      "\u001b[0;31m---------------------------------------------------------------------------\u001b[0m",
      "\u001b[0;31mNameError\u001b[0m                                 Traceback (most recent call last)",
      "\u001b[0;32m<ipython-input-14-fd30b706cb6f>\u001b[0m in \u001b[0;36m<module>\u001b[0;34m\u001b[0m\n\u001b[0;32m----> 1\u001b[0;31m ([array([], shape=(0, 5), dtype=float32), array([[1.6645169e+02, 7.4975540e+01, 2.5428650e+02, 1.6588290e+02,\n\u001b[0m\u001b[1;32m      2\u001b[0m         5.1220137e-01],\n\u001b[1;32m      3\u001b[0m        [2.3323289e+02, 1.5759534e+02, 2.5182079e+02, 2.3958292e+02,\n\u001b[1;32m      4\u001b[0m         1.3505103e-01],\n\u001b[1;32m      5\u001b[0m        [0.0000000e+00, 3.3629037e+02, 7.4538223e+01, 4.5377475e+02,\n",
      "\u001b[0;31mNameError\u001b[0m: name 'array' is not defined"
     ]
    }
   ],
   "source": [
    "([array([], shape=(0, 5), dtype=float32), array([[1.6645169e+02, 7.4975540e+01, 2.5428650e+02, 1.6588290e+02,\n",
    "        5.1220137e-01],\n",
    "       [2.3323289e+02, 1.5759534e+02, 2.5182079e+02, 2.3958292e+02,\n",
    "        1.3505103e-01],\n",
    "       [0.0000000e+00, 3.3629037e+02, 7.4538223e+01, 4.5377475e+02,\n",
    "        9.4806015e-02]], dtype=float32), array([[1.6658017e+02, 7.5110573e+01, 2.5426059e+02, 1.6588449e+02,\n",
    "        4.6446812e-01],\n",
    "       [1.2174674e+02, 1.2843819e+01, 3.6410468e+02, 2.3813507e+02,\n",
    "        5.4376066e-02]], dtype=float32), array([], shape=(0, 5), dtype=float32), array([], shape=(0, 5), dtype=float32), array([], shape=(0, 5), dtype=float32), array([[0.0000000e+00, 3.3632404e+02, 7.4400795e+01, 4.5374854e+02,\n",
    "        9.6029855e-02]], dtype=float32), array([], shape=(0, 5), dtype=float32), array([[172.79912   , 238.60167   , 463.40448   , 467.66803   ,\n",
    "          0.99824154],\n",
    "       [  0.        , 336.4362    ,  75.0018    , 453.81778   ,\n",
    "          0.47004235]], dtype=float32), array([], shape=(0, 5), dtype=float32), array([], shape=(0, 5), dtype=float32)], [[], [{'size': [512, 512], 'counts': b'_bc29e?7J3N3M3M4L7J1N2N8H3N2M3M1O1O100O001O1O010O00000000001O001O0000001O01OO100000000000000O10001O00000O2O00010O001O0011O1N10O011N10O2O0000O010O1000O100000000O3M4L8I7H3M3M9F5L4JbkP4'}, {'size': [512, 512], 'counts': b'odd3?`?;F8I:E:G4M3N3M5NK5K6H9H9G8G5L4L5IQYR4'}, {'size': [512, 512], 'counts': b'\\\\<d1d<mNPDh1m;^NgCi1X<P1001O1O1O001N2O2N0O2N1O2O1N2O00001O0O1O101N10000O0100000O001O0010000O1N2O100O1O1O1O1O2N1N2O101M2O2N1O2O1M4M2O1M3N2N2O1N2N2M3M4M2M5L2L5K5K<_OXTk6'}], [{'size': [512, 512], 'counts': b']bc2?`?3N2N5K2N3M6J2N3M7I3M3N2M1O100O1O001O10O01O000000001O010O0000001O0000000000000000000O1000001O0000001O001O000010O01001N1000O1O10O2O0000O010O011N0100000001N2N3M2O=B4L2N8H5J6JbkP4'}, {'size': [512, 512], 'counts': b'hQY22m?2N1O2N2N2N1O2N101N101O1N2O2M2O1O1O1O1O2N1N3N2N1O001O1O001O1O0dAhNP>Y1mAjNR>V1nAjNR>W1lAjNT>V1kAkNU>V1iAkNW>_1000001O1O2N3M2N2N2N2N6J:F001O1O1N2O1N2N2N2M2M4D;N3M3M2N3O1O1O1N2O1O1O1O1O1O1O1O1O0O2O1O1O00PNeD\\\\OZ;e0eD\\\\OZ;f2O1O1O1O1O001O1O001O1O1O2N1OmMoDXOP;h0PEXOP;h0PEYOo:l200000QNYEeNg:Z1^EbNb:^1aE_N_:a1dE\\\\N\\\\:c1kEWNU:j1lETNT:m1kETNT:l1mESNS:n1lERNT:o1lEPNT:Q2kEoMU:R2kEmMU:T2jElMV:U2jEkMU:U2lEjMT:V2lEjMT:W2lEhMT:X2lEhMT:X2mEgMS:Z2lEfMT:Z2lEgMS:Y2mEgMS:Z2lEfMT:Z2lEgMS:Y2mEiMQ:W2oEkMo9U2QFmMm9T2RFZN`9f1_F_N]9a1cF`N\\\\9`1dFaN[9`1cFaN]9`1bFaN]9`1aFaN_9a1_F`N`9a1_F_N`9c1^F_Na9a1_F_Na9b1]F`N5nMk8d3nF^N5QNl8a3oF^N5QNl8b3oF\\\\N5RNl8b3PG[N3TNm8a3QGZN2UNm8b3RGWN1WNm8b3TGUNNZNn8a3VGSNL\\\\Nn8a3XGaLAT19kNm8`3ZG]LEU15nNl8`3[G[LEX12nNn8_3[GYLGZ10nNn8_3gGcMZOoNo8^3gGcMYOPOP9]3gGcMXOQOQ9\\\\3gGcMWOROR9[3gGcMWOROR9[3dGZLYOT10XOS9[3`GhM]OmNS9]3YGkMDgNT9c3nFlMMaNU9g5kFXJV9h5jFWJW9i5iFTJZ9l5gFQJ[9o5eFQJ[9o5eFPJ\\\\9o5;O1N2TOSFdKn9[4ZF[Ki9e4i0O1O1O1N2O1G9N2N2O100O1L4I7L4M3L4M3N2M3N2N2M4L3H8J6L4L4M3M3N2L4J6I8J5L4M3M4K5J`0]O\\\\_Z2'}], [], [], [], [{'size': [512, 512], 'counts': b'\\\\<b1f<TOaCj1[<o0N1002N001O1N2O1O0O2O0O2N101N2O1O00000O1O2N10000O100000O10O001O1O100O010N2O101N1O1N200O2N1N2O1O2N1O2N101N2M3N3N1M2O2N3N0O2N2M4M3L3M4M3K5K6K9AYTk6'}], [], [{'size': [512, 512], 'counts': b'gif2e0U?=G6J5K4M2N4L4K6J8G>B6K5L2N2N101N2N2M3M4M2N2N2N2N101N1O2N1N4M2N2N2N1O2O0O2N1O2N2N2N2N2N101N2N1O100O2O0O101N101N101O0O2O1N2N101N100O2O00001O1O1N2O1O1O001O001O00001O001O1O1O1O001O001O0000001O000000001O001O001O1O1O1O1O0000001O000000000000001O001O001O1O1O1O001O001O0000000000000000001O00000000001O0000001O001O001O1O001O00001O000000000001O0000000000000000000001O0001O000000000000000000001O00001O00010O00001O000001O00001O01O01O00001O0001O01O00000001O01O01O001O1O1O1O001O001O001O1O1O2N1O1O001O001O001O1O1O1O1O1O1O001O001O1O2N1O1O1O001O0O2O001N2O2M2N2N2O0O2O1N2N2N4K5H9oNo0K5L3RN`C8c<AiC2a<ASD2T<FTD3V<^OXhh0'}, {'size': [512, 512], 'counts': b'X<h1d<kNgCm1V<ZNcCg1\\\\<o0001O1O1O001N3N0O2N1O2O1O1N101O000O2O0O1O100O10000000O10O001O1O01000O1N2O100O2N1O1O1O2M2O100O2N1N3N101N2M3O1N2N2M3N2O2M1O2M4M2N3L4L4L4L3L7HZTk6'}], [], []])"
   ]
  },
  {
   "cell_type": "code",
   "execution_count": 6,
   "metadata": {
    "pycharm": {
     "name": "#%%\n"
    }
   },
   "outputs": [
    {
     "name": "stdout",
     "output_type": "stream",
     "text": [
      "loading annotations into memory...\n",
      "Done (t=0.01s)\n",
      "creating index...\n",
      "index created!\n"
     ]
    },
    {
     "data": {
      "text/html": [
       "<div>\n",
       "<style scoped>\n",
       "    .dataframe tbody tr th:only-of-type {\n",
       "        vertical-align: middle;\n",
       "    }\n",
       "\n",
       "    .dataframe tbody tr th {\n",
       "        vertical-align: top;\n",
       "    }\n",
       "\n",
       "    .dataframe thead th {\n",
       "        text-align: right;\n",
       "    }\n",
       "</style>\n",
       "<table border=\"1\" class=\"dataframe\">\n",
       "  <thead>\n",
       "    <tr style=\"text-align: right;\">\n",
       "      <th></th>\n",
       "      <th>PredictionString</th>\n",
       "      <th>image_id</th>\n",
       "    </tr>\n",
       "  </thead>\n",
       "  <tbody>\n",
       "    <tr>\n",
       "      <th>0</th>\n",
       "      <td>1 0.2749946 165.01508 76.848434 254.94998 165....</td>\n",
       "      <td>batch_01_vt/0021.jpg</td>\n",
       "    </tr>\n",
       "    <tr>\n",
       "      <th>1</th>\n",
       "      <td>1 0.22447498 286.10718 342.68176 306.35754 374...</td>\n",
       "      <td>batch_01_vt/0028.jpg</td>\n",
       "    </tr>\n",
       "    <tr>\n",
       "      <th>2</th>\n",
       "      <td>1 0.99928373 69.84436 169.72957 373.46982 379....</td>\n",
       "      <td>batch_01_vt/0031.jpg</td>\n",
       "    </tr>\n",
       "    <tr>\n",
       "      <th>3</th>\n",
       "      <td>8 0.9995408 33.860916 121.08598 388.68024 377....</td>\n",
       "      <td>batch_01_vt/0032.jpg</td>\n",
       "    </tr>\n",
       "    <tr>\n",
       "      <th>4</th>\n",
       "      <td>1 0.99515957 389.45132 272.238 473.27335 344.5...</td>\n",
       "      <td>batch_01_vt/0070.jpg</td>\n",
       "    </tr>\n",
       "  </tbody>\n",
       "</table>\n",
       "</div>"
      ],
      "text/plain": [
       "                                    PredictionString              image_id\n",
       "0  1 0.2749946 165.01508 76.848434 254.94998 165....  batch_01_vt/0021.jpg\n",
       "1  1 0.22447498 286.10718 342.68176 306.35754 374...  batch_01_vt/0028.jpg\n",
       "2  1 0.99928373 69.84436 169.72957 373.46982 379....  batch_01_vt/0031.jpg\n",
       "3  8 0.9995408 33.860916 121.08598 388.68024 377....  batch_01_vt/0032.jpg\n",
       "4  1 0.99515957 389.45132 272.238 473.27335 344.5...  batch_01_vt/0070.jpg"
      ]
     },
     "execution_count": 6,
     "metadata": {},
     "output_type": "execute_result"
    }
   ],
   "source": [
    "prediction_strings = []\n",
    "file_names = []\n",
    "coco = COCO(cfg.data.test.ann_file)\n",
    "imag_ids = coco.getImgIds()\n",
    "\n",
    "class_num = 11\n",
    "for i, out in enumerate(output):\n",
    "    prediction_string = ''\n",
    "    image_info = coco.loadImgs(coco.getImgIds(imgIds=i))[0]\n",
    "    for j in range(class_num):\n",
    "        for o in out[0][j]:\n",
    "            prediction_string += str(j) + ' ' + str(o[4]) + ' ' + str(o[0]) + ' ' + str(o[1]) + ' ' + str(\n",
    "                o[2]) + ' ' + str(o[3]) + ' '\n",
    "        \n",
    "    prediction_strings.append(prediction_string)\n",
    "    file_names.append(image_info['file_name'])\n",
    "\n",
    "\n",
    "submission = pd.DataFrame()\n",
    "submission['PredictionString'] = prediction_strings\n",
    "submission['image_id'] = file_names\n",
    "submission.to_csv(os.path.join(cfg.work_dir, f'submission_{epoch}.csv'), index=None)\n",
    "submission.head()"
   ]
  },
  {
   "cell_type": "code",
   "execution_count": null,
   "metadata": {},
   "outputs": [],
   "source": []
  }
 ],
 "metadata": {
  "kernelspec": {
   "display_name": "Python 3",
   "language": "python",
   "name": "python3"
  },
  "language_info": {
   "codemirror_mode": {
    "name": "ipython",
    "version": 3
   },
   "file_extension": ".py",
   "mimetype": "text/x-python",
   "name": "python",
   "nbconvert_exporter": "python",
   "pygments_lexer": "ipython3",
   "version": "3.7.7"
  },
  "pycharm": {
   "stem_cell": {
    "cell_type": "raw",
    "metadata": {
     "collapsed": false
    },
    "source": []
   }
  }
 },
 "nbformat": 4,
 "nbformat_minor": 4
}
